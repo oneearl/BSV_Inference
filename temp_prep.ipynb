{
 "cells": [
  {
   "cell_type": "code",
   "execution_count": 206,
   "metadata": {},
   "outputs": [],
   "source": [
    "RAW_MSC = '/home/tim/dv/bsv_inference/data_raw/temperature/UUEE.01.01.2014.31.03.2024.1.0.0.ru.utf8.00000000.csv'\n",
    "RAW_NSK = '/home/tim/dv/bsv_inference/data_raw/temperature/UNNT.01.01.2014.31.03.2024.1.0.0.ru.utf8.00000000.csv'"
   ]
  },
  {
   "cell_type": "code",
   "execution_count": 207,
   "metadata": {},
   "outputs": [],
   "source": [
    "import pandas as pd\n",
    "import numpy as np"
   ]
  },
  {
   "cell_type": "code",
   "execution_count": 208,
   "metadata": {},
   "outputs": [],
   "source": [
    "temp_moscow, temp_novosk = pd.read_csv(RAW_MSC, skip_blank_lines=True)[6:], pd.read_csv(RAW_NSK, skip_blank_lines=True)[6:]"
   ]
  },
  {
   "cell_type": "code",
   "execution_count": 209,
   "metadata": {},
   "outputs": [],
   "source": [
    "temp_moscow.reset_index(drop=True, inplace=True)\n",
    "temp_novosk.reset_index(drop=True, inplace=True)"
   ]
  },
  {
   "cell_type": "code",
   "execution_count": 210,
   "metadata": {},
   "outputs": [],
   "source": [
    "temp_moscow.rename({temp_moscow.columns[0] : 'dt', temp_moscow.columns[1] : 'temp'},axis=1, errors=\"raise\", inplace=True)\n",
    "temp_novosk.rename({temp_novosk.columns[0] : 'dt', temp_novosk.columns[1] : 'temp'},axis=1, errors=\"raise\", inplace=True)"
   ]
  },
  {
   "cell_type": "code",
   "execution_count": 211,
   "metadata": {},
   "outputs": [],
   "source": [
    "temp_moscow = temp_moscow[::-1].reset_index(drop=True)\n",
    "temp_novosk = temp_novosk[::-1].reset_index(drop=True)"
   ]
  },
  {
   "cell_type": "code",
   "execution_count": 212,
   "metadata": {},
   "outputs": [
    {
     "name": "stderr",
     "output_type": "stream",
     "text": [
      "/tmp/ipykernel_17960/2402446261.py:1: FutureWarning: The pandas.datetime class is deprecated and will be removed from pandas in a future version. Import from datetime module instead.\n",
      "  temp_moscow = temp_moscow[pd.to_datetime(temp_moscow['dt']) >= pd.datetime(2020, 1, 1)].reset_index(drop=True)\n",
      "/tmp/ipykernel_17960/2402446261.py:2: FutureWarning: The pandas.datetime class is deprecated and will be removed from pandas in a future version. Import from datetime module instead.\n",
      "  temp_novosk = temp_novosk[pd.to_datetime(temp_novosk['dt']) >= pd.datetime(2020, 1, 1)].reset_index(drop=True)\n"
     ]
    }
   ],
   "source": [
    "temp_moscow = temp_moscow[pd.to_datetime(temp_moscow['dt']) >= pd.datetime(2020, 1, 1)].reset_index(drop=True)\n",
    "temp_novosk = temp_novosk[pd.to_datetime(temp_novosk['dt']) >= pd.datetime(2020, 1, 1)].reset_index(drop=True)"
   ]
  },
  {
   "cell_type": "code",
   "execution_count": 217,
   "metadata": {},
   "outputs": [],
   "source": [
    "def temp_interpolate(df, hour):\n",
    "    start_date = pd.to_datetime(\"2020-01-01\")\n",
    "    end_date = pd.to_datetime(\"2024-03-31\")\n",
    "    df['dt'] = pd.to_datetime(df['dt'])\n",
    "    date_range_df = pd.DataFrame(pd.date_range(start=start_date, end=end_date, freq='D')+ pd.Timedelta(hours=hour), columns=['date_range'])\n",
    "    missing_dates_df = pd.merge(date_range_df, df, left_on='date_range', right_on='dt', how='left', indicator=True)\n",
    "    missing_dates = missing_dates_df[missing_dates_df['_merge'] == 'left_only']['date_range']\n",
    "\n",
    "    blank_rows = pd.DataFrame(columns=['dt'])\n",
    "    blank_rows['dt'] = missing_dates\n",
    "\n",
    "    result_df = pd.concat([df, blank_rows]).sort_values('dt').reset_index(drop=True)\n",
    "    result_df['temp'] = result_df['temp'].interpolate(method='linear')\n",
    "\n",
    "    return result_df"
   ]
  },
  {
   "cell_type": "code",
   "execution_count": 222,
   "metadata": {},
   "outputs": [],
   "source": [
    "def to_farenheit(temp_c):\n",
    "    return float(temp_c) * 1.8 + 32 + 48\n",
    "\n",
    "def get_temp(df, hour):\n",
    "    df['dt'] = pd.to_datetime(df['dt'], format='%d.%m.%Y %H:%M')\n",
    "\n",
    "    df = df[(df['dt'].dt.minute == 0)]\n",
    "    df = df[df['dt'].dt.hour == hour]\n",
    "    df['temp'] = df['temp'].apply(to_farenheit)\n",
    "    df = temp_interpolate(df, hour)\n",
    "    # df['dt'] = pd.to_datetime(df['dt'], format='%d.%m.%Y %H:%M')\n",
    "    # df = df[(df['dt'].dt.minute == 0)]\n",
    "    # df = df[df['dt'].dt.hour == hour]\n",
    "    df.to_csv(f'/home/tim/dv/bsv_inference/data_raw/temperature_raw/zone_2/zone_2_hour_{hour}.csv', index=False)\n",
    "    return"
   ]
  },
  {
   "cell_type": "code",
   "execution_count": 223,
   "metadata": {},
   "outputs": [],
   "source": [
    "for hour in range(24):\n",
    "    get_temp(temp_novosk, hour=hour)"
   ]
  },
  {
   "cell_type": "code",
   "execution_count": 80,
   "metadata": {},
   "outputs": [],
   "source": [
    "temp_moscow['dt'] = pd.to_datetime(temp_moscow['dt'], format='%d.%m.%Y %H:%M')\n",
    "temp_novosk['dt'] = pd.to_datetime(temp_novosk['dt'], format='%d.%m.%Y %H:%M')"
   ]
  },
  {
   "cell_type": "code",
   "execution_count": 83,
   "metadata": {},
   "outputs": [],
   "source": [
    "temp_moscow['temp'] = temp_moscow['temp'].apply(to_farenheit)\n",
    "temp_novosk['temp'] = temp_novosk['temp'].apply(to_farenheit)\n",
    "\n",
    "for_min_1 = temp_moscow\n",
    "for_min_1['dt'] = for_min_1['dt'].dt.date\n",
    "\n",
    "for_min_2 = temp_novosk\n",
    "for_min_2['dt'] = for_min_2['dt'].dt.date\n",
    "\n",
    "for_min_1 = for_min_1.groupby('dt')['temp'].min().reset_index(drop=True)\n",
    "for_min_2 = for_min_2.groupby('dt')['temp'].min().reset_index(drop=True)\n",
    "\n",
    "for_min_1.to_csv('/home/tim/dv/bsv_inference/data_raw/temperature/min_zone1.csv', index=False)\n",
    "for_min_2.to_csv('/home/tim/dv/bsv_inference/data_raw/temperature/min_zone2.csv', index=False)"
   ]
  }
 ],
 "metadata": {
  "kernelspec": {
   "display_name": "thesis_env",
   "language": "python",
   "name": "python3"
  },
  "language_info": {
   "codemirror_mode": {
    "name": "ipython",
    "version": 3
   },
   "file_extension": ".py",
   "mimetype": "text/x-python",
   "name": "python",
   "nbconvert_exporter": "python",
   "pygments_lexer": "ipython3",
   "version": "3.9.19"
  }
 },
 "nbformat": 4,
 "nbformat_minor": 2
}
