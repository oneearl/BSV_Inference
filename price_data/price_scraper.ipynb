{
 "cells": [
  {
   "cell_type": "code",
   "execution_count": 99,
   "metadata": {},
   "outputs": [],
   "source": [
    "YEARS = [2022, 2023]\n",
    "# MONTHS = []"
   ]
  },
  {
   "cell_type": "code",
   "execution_count": 38,
   "metadata": {},
   "outputs": [
    {
     "name": "stdout",
     "output_type": "stream",
     "text": [
      "6\n"
     ]
    }
   ],
   "source": [
    "from selenium import webdriver\n",
    "from selenium.webdriver.common.by import By\n",
    "from selenium.webdriver.support.wait import WebDriverWait\n",
    "from selenium.webdriver.support import expected_conditions as EC\n",
    "from selenium.webdriver.common.action_chains import ActionChains\n",
    "\n",
    "options = webdriver.ChromeOptions()\n",
    "options.add_argument('--ignore-ssl-errors=yes')\n",
    "options.add_argument('--ignore-certificate-errors')\n",
    "options.add_argument(\"--window-size=1920,1440\")\n",
    "driver = webdriver.Chrome(options=options)\n",
    "url = 'https://www.atsenergo.ru/results/rsv/index?zone=1'\n",
    "driver.get(url)\n",
    "\n",
    "driver.find_element(By.XPATH, '/html/body/div[1]/div/div/div/div[1]/div/div/div[2]/ul/li[1]/a').click()\n",
    "\n",
    "driver.implicitly_wait(10)\n",
    "\n",
    "driver.find_element(By.XPATH, '//*[@id=\"aid_stats_1_date2\"]').click()\n",
    "\n",
    "driver.implicitly_wait(10)\n",
    "\n",
    "driver.find_element(By.XPATH, '/html/body/div[2]/div/div/select[2]/option[2]').click()\n",
    "driver.implicitly_wait(10)\n",
    "\n",
    "driver.find_element(By.XPATH, '/html/body/div[2]/div/div/select[1]/option[1]').click()\n",
    "driver.implicitly_wait(10)\n",
    "\n",
    "driver.find_element(By.XPATH, '/html/body/div[2]/table/tbody/tr[1]/td[2]').click()\n",
    "driver.implicitly_wait(10)\n",
    "\n",
    "calendar_table = driver.find_element(By.XPATH, \"/html/body/div[2]/table/tbody\")\n",
    "download_button = driver.find_element(By.XPATH, \"/html/body/div[1]/div/div/div/div[1]/div/div/div[5]/p/span[2]\")\n",
    "\n",
    "Rows = driver.find_elements(By.XPATH, \"/html/body/div[2]/table/tbody//tr\")\n",
    "cnt = 0;\n",
    "for currentRow in Rows:\n",
    "    linkInCurrentRow = currentRow.find_elements(By.XPATH, \"/html/body/div[2]/table/tbody/tr[1]/td[2]\")\n",
    "    for Date in linkInCurrentRow:\n",
    "    # click on the link or you can perform  desired operation \n",
    "        driver.implicitly_wait(10)\n",
    "        Date.click()\n",
    "        cnt+=1\n",
    "        # download_button.click()\n",
    "    #write the logic below to navigate to the table containing page\n",
    "    # driver.back()\n",
    "\n",
    "\n",
    "# Loop through each cell to find and click the buttons\n",
    "# for i in range(30):\n",
    "#         # Check if the cell contains a button\n",
    "#         # button = cell.find_element(By.TAG_NAME, 'button')\n",
    "#         calendar_cells = calendar_table.find_elements(By.CLASS_NAME, 'ui-state-default')\n",
    "#         # Click the button if found\n",
    "#         driver.implicitly_wait(10)\n",
    "#         driver.find_element(By.XPATH, '//*[@id=\"aid_stats_1_date2\"]').click()\n",
    "#         driver.implicitly_wait(10)\n",
    "#         calendar_cells[0].click()\n",
    "#         driver.implicitly_wait(10)\n",
    "#         download_button.click()\n",
    "\n",
    "# Close the WebDriver\n",
    "print(cnt)\n",
    "# driver.quit()"
   ]
  },
  {
   "cell_type": "code",
   "execution_count": null,
   "metadata": {},
   "outputs": [],
   "source": []
  },
  {
   "cell_type": "code",
   "execution_count": null,
   "metadata": {},
   "outputs": [
    {
     "data": {
      "text/plain": [
       "31"
      ]
     },
     "execution_count": 96,
     "metadata": {},
     "output_type": "execute_result"
    }
   ],
   "source": [
    "len(calendar_cells)"
   ]
  }
 ],
 "metadata": {
  "kernelspec": {
   "display_name": "thesis_env",
   "language": "python",
   "name": "python3"
  },
  "language_info": {
   "codemirror_mode": {
    "name": "ipython",
    "version": 3
   },
   "file_extension": ".py",
   "mimetype": "text/x-python",
   "name": "python",
   "nbconvert_exporter": "python",
   "pygments_lexer": "ipython3",
   "version": "3.9.19"
  }
 },
 "nbformat": 4,
 "nbformat_minor": 2
}
